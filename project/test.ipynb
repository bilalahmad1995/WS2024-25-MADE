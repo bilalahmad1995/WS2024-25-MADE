{
 "cells": [
  {
   "cell_type": "code",
   "execution_count": 1,
   "metadata": {},
   "outputs": [],
   "source": [
    "import sqlite3\n",
    "import pandas as pd\n"
   ]
  },
  {
   "cell_type": "code",
   "execution_count": 2,
   "metadata": {},
   "outputs": [],
   "source": [
    "# Path to your database\n",
    "database_path = '../data/sp500_data.db'\n",
    "\n",
    "# Connect to the SQLite database\n",
    "conn = sqlite3.connect(database_path)\n"
   ]
  },
  {
   "cell_type": "code",
   "execution_count": 3,
   "metadata": {},
   "outputs": [
    {
     "name": "stdout",
     "output_type": "stream",
     "text": [
      "                           name\n",
      "0               sp500_companies\n",
      "1  sp500_stocksprice_and_volume\n"
     ]
    }
   ],
   "source": [
    "# Query to list all tables\n",
    "query = \"SELECT name FROM sqlite_master WHERE type='table';\"\n",
    "tables = pd.read_sql_query(query, conn)\n",
    "\n",
    "# Display table names\n",
    "print(tables)\n"
   ]
  },
  {
   "cell_type": "code",
   "execution_count": 4,
   "metadata": {},
   "outputs": [],
   "source": [
    "# Load sp500_companies table\n",
    "query_companies = \"SELECT * FROM sp500_companies;\"\n",
    "sp500_companies_df = pd.read_sql_query(query_companies, conn)\n",
    "\n",
    "# Load sp500_stocksprice_and_volume table\n",
    "query_stocks = \"SELECT * FROM sp500_stocksprice_and_volume;\"\n",
    "sp500_stocks_df = pd.read_sql_query(query_stocks, conn)\n",
    "\n",
    "# Display the first few rows of each DataFrame\n"
   ]
  },
  {
   "cell_type": "code",
   "execution_count": 5,
   "metadata": {},
   "outputs": [
    {
     "name": "stdout",
     "output_type": "stream",
     "text": [
      "\n",
      "SP500 Stocks Price and Volume Data:\n",
      "                  date  open_price($)  high_price($)  low_price($)  \\\n",
      "0  1950-01-03 00:00:00          16.66          16.66         16.66   \n",
      "1  1950-01-04 00:00:00          16.85          16.85         16.85   \n",
      "2  1950-01-05 00:00:00          16.93          16.93         16.93   \n",
      "3  1950-01-06 00:00:00          16.98          16.98         16.98   \n",
      "4  1950-01-09 00:00:00          17.08          17.08         17.08   \n",
      "\n",
      "   close_price($)   volume  \n",
      "0           16.66  1260000  \n",
      "1           16.85  1890000  \n",
      "2           16.93  2550000  \n",
      "3           16.98  2010000  \n",
      "4           17.08  2520000  \n"
     ]
    }
   ],
   "source": [
    "\n",
    "\n",
    "print(\"\\nSP500 Stocks Price and Volume Data:\")\n",
    "print(sp500_stocks_df.head())"
   ]
  },
  {
   "cell_type": "code",
   "execution_count": 6,
   "metadata": {},
   "outputs": [
    {
     "name": "stdout",
     "output_type": "stream",
     "text": [
      "SP500 Companies Data:\n",
      "  Exchange Symbol              Shortname               Longname  \\\n",
      "0      NMS   NVDA     NVIDIA Corporation     NVIDIA Corporation   \n",
      "1      NMS   AAPL             Apple Inc.             Apple Inc.   \n",
      "2      NMS   MSFT  Microsoft Corporation  Microsoft Corporation   \n",
      "3      NMS   AMZN       Amazon.com, Inc.       Amazon.com, Inc.   \n",
      "4      NMS  GOOGL          Alphabet Inc.          Alphabet Inc.   \n",
      "\n",
      "                   Sector                        Industry  Currentprice  \\\n",
      "0              Technology                  Semiconductors        147.01   \n",
      "1              Technology            Consumer Electronics        228.28   \n",
      "2              Technology       Software - Infrastructure        417.79   \n",
      "3       Consumer Cyclical                 Internet Retail        204.61   \n",
      "4  Communication Services  Internet Content & Information        178.12   \n",
      "\n",
      "   Marketcap_in_Billions  Ebitda_in_Billions  Revenuegrowth           City  \\\n",
      "0                 3653.2                61.2          1.224    Santa Clara   \n",
      "1                 3450.6               134.7          0.061      Cupertino   \n",
      "2                 3106.2               136.6          0.160        Redmond   \n",
      "3                 2161.2               111.6          0.110        Seattle   \n",
      "4                 2153.3               123.5          0.151  Mountain View   \n",
      "\n",
      "  State        Country  Fulltimeemployees  \\\n",
      "0    CA  United States              29600   \n",
      "1    CA  United States             164000   \n",
      "2    WA  United States             228000   \n",
      "3    WA  United States            1551000   \n",
      "4    CA  United States             181269   \n",
      "\n",
      "                                 Longbusinesssummary  Weight  \n",
      "0  NVIDIA Corporation provides graphics and compu...    0.07  \n",
      "1  Apple Inc. designs, manufactures, and markets ...    0.06  \n",
      "2  Microsoft Corporation develops and supports so...    0.06  \n",
      "3  Amazon.com, Inc. engages in the retail sale of...    0.04  \n",
      "4  Alphabet Inc. offers various products and plat...    0.04  \n"
     ]
    }
   ],
   "source": [
    "print(\"SP500 Companies Data:\")\n",
    "print(sp500_companies_df.head())"
   ]
  },
  {
   "cell_type": "code",
   "execution_count": null,
   "metadata": {},
   "outputs": [],
   "source": []
  }
 ],
 "metadata": {
  "kernelspec": {
   "display_name": "env",
   "language": "python",
   "name": "python3"
  },
  "language_info": {
   "codemirror_mode": {
    "name": "ipython",
    "version": 3
   },
   "file_extension": ".py",
   "mimetype": "text/x-python",
   "name": "python",
   "nbconvert_exporter": "python",
   "pygments_lexer": "ipython3",
   "version": "3.13.0"
  }
 },
 "nbformat": 4,
 "nbformat_minor": 2
}
